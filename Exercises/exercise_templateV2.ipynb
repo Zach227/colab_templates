{
  "cells": [
    {
      "cell_type": "markdown",
      "metadata": {
        "id": "{{ metadata }}"
      },
      "source": [
        "## **Setup**\n",
        "Click the Play Button. No need to expand. Do not touch this. "
      ]
    },
    {
      "cell_type": "code",
      "execution_count": null,
      "metadata": {
        "cellView": "form",
        "id": "M66G8rnfOz8o"
      },
      "outputs": [],
      "source": [
        "#@title Import Packages\n",
        "import ipywidgets as widgets\n",
        "from ipywidgets import GridspecLayout\n",
        "from ipywidgets import AppLayout, Button, Layout, jslink, IntText, IntSlider"
      ]
    },
    {
      "cell_type": "code",
      "execution_count": null,
      "metadata": {
        "cellView": "form",
        "id": "xwmWBW7XfNEE"
      },
      "outputs": [],
      "source": [
        "#@title Import Files from Repo\n",
        "\n",
        "import requests\n",
        "def import_text(text):\n",
        "  url = 'https://raw.githubusercontent.com/byuccl/digital_design_colab2/master/Exercises/{{ main_file_name }}/files/%s' %text\n",
        "  resp = requests.get(url)\n",
        "  with open(text, 'wb') as f:\n",
        "    f.write(resp.content)\n",
        "\n",

        {% if frq_file_name %}
        "import_text(\"{{ frq_file_name }}.py\")\n",
        "from {{ frq_file_name }} import *",
        {% endif %}
        {% if tt_file_name %}
        "import_text(\"{{ tt_file_name }}.py\")\n",
        "from {{ tt_file_name }} import *",
        {% endif %}
        {% if mc_file_name %}
        "import_text(\"{{ mc_file_name }}.py\")\n",
        "from {{ mc_file_name }} import *",
        {% endif %}
         "{{ empty }}"
      ]
    },
    {
      "cell_type": "markdown",
      "metadata": {
        "id": "LWdMfDHvPbyA"
      },
      "source": [
        "## **{{ intro_title }}**"
      ]
    },
    {
      "cell_type": "markdown",
      "metadata": {
        "id": "hALne8FpPmM0"
      },
      "source": [
        {% for sentence in intro_body %}
          "{{ sentence }}",
          {% endfor %}
        "{{ empty }}"
      ]
    },
    {
      "cell_type": "markdown",
      "metadata": {
        "id": "mr60gMMuaa8F"
      },
      "source": [
        "## **{{ section1_title }}**"
      ]
    },
    {
      "cell_type": "markdown",
      "metadata": {
        "id": "WTpfRHcvafB_"
      },
      "source": [
        {% for sentence in section1_body %}
          "{{ sentence }}",
          {% endfor %}
        "{{ empty }}"
      ]
    },
    {
      "cell_type": "markdown",
      "metadata": {
        "id": "TLtctZM8JbqX"
      },
      "source": [
        "### **{{ section1_quiz_title }}**"
      ]
    },
    {% for question in section1_questions %}
      {
        "cell_type": "code",
        "execution_count": null,
        "metadata": {
          "cellView": "form",
          "id": "47QYQDmyJ03H"
        },
        "outputs": [],
        "source": [
          {% for line in question.title %}
          "{{ line }}",
          {% endfor %}
          {% for line in question.code %}
          "{{ line }}",
          {% endfor %}
          " "
        ]
      },    
    {% endfor %}

    {% if section2_exists %}
    {
      "cell_type": "markdown",
      "metadata": {
        "id": "AJbCbyA2Q0M-"
      },
      "source": [
        "## **{{ section2_title }}**"
      ]
    },
    {
      "cell_type": "markdown",
      "metadata": {
        "id": "Pxx4uiuERMov"
      },
      "source": [
        {% for sentence in section2_body %}
            "{{ sentence }}",
          {% endfor %}
        "{{ empty }}"
      ]
    },
    {
      "cell_type": "markdown",
      "metadata": {
        "id": "2huOYC0Xggin"
      },
      "source": [
        "### **{{ section2_quiz_title }}**"
      ]
    },
    {% for question in section2_questions %}
      {
        "cell_type": "code",
        "execution_count": null,
        "metadata": {
          "cellView": "form",
          "id": "47QYQDmyJ03H"
        },
        "outputs": [],
        "source": [
          {% for line in question.title %}
          "{{ line }}",
          {% endfor %}
          {% for line in question.code %}
          "{{ line }}",
          {% endfor %}
          " "
        ]
      },    
    {% endfor %}
    {% endif %}

    {% if section3_exists %}
    {
      "cell_type": "markdown",
      "metadata": {
        "id": "AJbCbyA2Q0M-"
      },
      "source": [
        "## **{{ section3_title }}**"
      ]
    },
    {
      "cell_type": "markdown",
      "metadata": {
        "id": "Pxx4uiuERMov"
      },
      "source": [
        {% for sentence in section3_body %}
            "{{ sentence }}",
          {% endfor %}
        "{{ empty }}"
      ]
    },
    {
      "cell_type": "markdown",
      "metadata": {
        "id": "2huOYC0Xggin"
      },
      "source": [
        "### **{{ section3_quiz_title }}**"
      ]
    },
    {% for question in section3_questions %}
      {
        "cell_type": "code",
        "execution_count": null,
        "metadata": {
          "cellView": "form",
          "id": "47QYQDmyJ03H"
        },
        "outputs": [],
        "source": [
          {% for line in question.title %}
          "{{ line }}",
          {% endfor %}
          {% for line in question.code %}
          "{{ line }}",
          {% endfor %}
          " "
        ]
      },    
    {% endfor %}

    {% endif %}
    {
    }
  ],
  "metadata": {
    "colab": {
      "collapsed_sections": [
        "{{ metadata }}"
      ],
      "provenance": []
    },
    "kernelspec": {
      "display_name": "Python 3.9.15 64-bit",
      "language": "python",
      "name": "python3"
    },
    "language_info": {
      "name": "python",
      "version": "3.9.15"
    },
    "vscode": {
      "interpreter": {
        "hash": "f9f85f796d01129d0dd105a088854619f454435301f6ffec2fea96ecbd9be4ac"
      }
    }
  },
  "nbformat": 4,
  "nbformat_minor": 0
}