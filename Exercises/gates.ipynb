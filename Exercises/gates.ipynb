{
  "cells": [
    {
      "cell_type": "markdown",
      "metadata": {},
      "source": [
        "## **Setup**\n",
        "Click the Play Button. No need to expand. Do not touch this. "
      ]
    },
    {
      "cell_type": "code",
      "execution_count": null,
      "metadata": {
        "cellView": "form"
      },
      "outputs": [],
      "source": [
        "#@title Import Packages\n",
        "import ipywidgets as widgets\n",
        "from ipywidgets import GridspecLayout\n",
        "from ipywidgets import AppLayout, Button, Layout, jslink, IntText, IntSlider"
      ]
    },
    {
      "cell_type": "code",
      "execution_count": null,
      "metadata": {
        "cellView": "form"
      },
      "outputs": [],
      "source": [
        "#@title Import Files from Repo\n",
        "\n",
        "import requests\n",
        "def import_text(text):\n",
        "  url = 'https://raw.githubusercontent.com/byuccl/digital_design_colab2/master/Exercises/gates/files/%s' %text\n",
        "  resp = requests.get(url)\n",
        "  with open(text, 'wb') as f:\n",
        "    f.write(resp.content)\n",
        "\n",
        "import_text(\"frq_gates.py\")\n",
        "from frq_gates import *\n",
        "import_text(\"tt_gates.py\")\n",
        "from tt_gates import *\n"
      ]
    },
    {
      "cell_type": "markdown",
      "metadata": {},
      "source": [
        "## **Logic Gates**"
      ]
    },
    {
      "cell_type": "markdown",
      "metadata": {},
      "source": [
        "\n",
        "After learning about boolean algebra, it's time to see how we can actually use it in computers.\n",
        "You can use logic gates to implement boolean logic in hardware to help computers make decisions.\n",
        "A simple logic gate will have 2 inputs, and 1 output. These inputs and outputs represent digital signals.\n",
        "The signals can either be high or low. High means that the signal has a positive voltage.\n",
        "This is represented as a 1, and is the same as \"true\" when using boolean logic.\n",
        "Low means that the signal has not voltage. This can be represented as a 0, or \"false\" when using bolean logic.\n",
        "When you put a bunch of these gates together is strategic ways, you can create complex systems that make up computers.\n",
        "    \n"
      ]
    },
    {
      "cell_type": "markdown",
      "metadata": {},
      "source": [
        "## **AND, OR, NOT**"
      ]
    },
    {
      "cell_type": "markdown",
      "metadata": {},
      "source": [
        "\n",
        "These gates should be a review of the ideas you learned about with boolean algebrea in the previes section.\n",
        "Here you will learn the symbols we use to represent each type of gate in diagrams.\n",
        "\n",
        "<p align=\"left\">\n",
        "<img src=\"https://raw.githubusercontent.com/byuccl/digital_design_colab2/master/Exercises/gates/media/andgate.png\"\n",
        "width=\"250\" height=\"\" style=\"display: block; margin: 0 auto\" />\n",
        "</p>\n",
        "\n",
        "AND: The output is high when both inbuts a, and b are high.\n",
        "Otherwise, the output is low.\n",
        "\n",
        "<p align=\"left\">\n",
        "<img src=\"https://raw.githubusercontent.com/byuccl/digital_design_colab2/master/Exercises/gates/media/orgate.png\"\n",
        "width=\"250\" height=\"\" style=\"display: block; margin: 0 auto\" />\n",
        "</p>\n",
        "\n",
        "OR: The output is high when either one of the inputs is high.\n",
        "If both inputs are low, the output is low.\n",
        "\n",
        "<p align=\"left\">\n",
        "<img src=\"https://raw.githubusercontent.com/byuccl/digital_design_colab2/master/Exercises/gates/media/notgate.png\"\n",
        "width=\"250\" height=\"\" style=\"display: block; margin: 0 auto\" />\n",
        "</p>\n",
        "\n",
        "\n",
        "NOT: The output is alwasys the oposite of the input. \n",
        "    \n"
      ]
    },
    {
      "cell_type": "markdown",
      "metadata": {},
      "source": [
        "### **Fill out the truth tables below**"
      ]
    },
    {
      "cell_type": "code",
      "execution_count": null,
      "metadata": {
        "cellView": "form"
      },
      "outputs": [],
      "source": [
        "Fill out the truth tables below\n",
        "print_tt_grid(1)\n",
        "print()\n",
        "print_tt_grid(2)\n",
        "print()\n",
        "print_tt_grid(3)\n",
        " "
      ]
    },
    {
      "cell_type": "markdown",
      "metadata": {},
      "source": [
        "## **NAND, NOR, XOR, XNOR**"
      ]
    },
    {
      "cell_type": "markdown",
      "metadata": {},
      "source": [
        "\n",
        "Bubbles are used to represent inverting a wire or signal.\n",
        "Just think of them as a NOT gate. \n",
        "\n",
        "<p align=\"left\">\n",
        "<img src=\"https://raw.githubusercontent.com/byuccl/digital_design_colab2/master/Exercises/gates/media/norgate.png\"\n",
        "width=\"250\" height=\"\" style=\"display: block; margin: 0 auto\" />\n",
        "</p>\n",
        "\n",
        "NOR Gates are OR gates, but the output is inverted.\n",
        "The dot is used to represent an invert or NOT gate.\n",
        "\n",
        "<p align=\"left\">\n",
        "<img src=\"https://raw.githubusercontent.com/byuccl/digital_design_colab2/master/Exercises/gates/media/nandgate.png\"\n",
        "width=\"250\" height=\"\" style=\"display: block; margin: 0 auto\" />\n",
        "</p>\n",
        "\n",
        "NAND gates are AND gates but the output is inverted\n",
        "\n",
        "<p align=\"left\">\n",
        "<img src= \"https://raw.githubusercontent.com/byuccl/digital_design_colab2/master/Exercises/gates/media/xorgate.png\"\n",
        "width=\"250\" height=\"\" style=\"display: block; margin: 0 auto\" />\n",
        "</p>\n",
        "\n",
        "\n",
        "XOR gates are exclusive OR gates.\n",
        "The output is only 1 if an odd number of the inputs are 1.\n",
        "In this example, if the two inputs are both 0 or they are both 1, the output is 0.\n",
        "\n",
        "<p align=\"left\">\n",
        "<img src=\"https://raw.githubusercontent.com/byuccl/digital_design_colab2/master/Exercises/gates/media/xnorgate.png\"\n",
        "width=\"250\" height=\"\" style=\"display: block; margin: 0 auto\" />\n",
        "</p>\n",
        "\n",
        "\n",
        "XNOR gates are XOR gates but the ouput is inverted. The oupt is 1 if an even number of inputs are the same. \n",
        "\n",
        "        \n"
      ]
    },
    {
      "cell_type": "markdown",
      "metadata": {
        "id": "2huOYC0Xggin"
      },
      "source": [
        "### **Try filling out the truth tables for these new gates**"
      ]
    },
    {
      "cell_type": "code",
      "execution_count": null,
      "metadata": {
        "cellView": "form"
      },
      "outputs": [],
      "source": [
        "Fill out the truth tables below\n",
        "print_tt_grid(4)\n",
        "print()\n",
        "print_tt_grid(5)\n",
        "print()\n",
        "print_tt_grid(6)\n",
        "print()\n",
        "print_tt_grid(7)\n",
        " "
      ]
    },
    {
      "cell_type": "markdown",
      "metadata": {},
      "source": [
        "## **Complex Diagrams**"
      ]
    },
    {
      "cell_type": "markdown",
      "metadata": {},
      "source": [
        "\n",
        "You can combine these logic gates to implement a function with multiple inputs and a single output. \n",
        "Here is an example:\n",
        "\n",
        "<p align=\"left\"> \n",
        "<img src=\"https://raw.githubusercontent.com/byuccl/digital_design_colab2/master/Exercises/gates/media/example_circuit.png\" \n",
        "width=\"250\" height=\"\" style=\"display: block; margin: 0 auto\" /> </p>\n",
        "\n",
        "This circuit implement boolean logic that takes inputs A, B, and C, and outputs Y. \n",
        "The output of the top NAND gate is (AB)', the output of the middile NOR gate is (A+C)', and the output of the botton AND gate is BC.\n",
        "These three signals go into the final OR gate to produce the output Y = (AB)'+(A+C)'+BC.\n",
        "This is really cool when you think about what is going on here!\n",
        "You can can design a system that does somthing based on a complex set of conditions.\n",
        "You could use this strategey to implement if-else statements, and as you put more and more of them together this is how computers run!\n",
        "Also notice from this circuit that logic gates can have more than 2 inputs. \n",
        "In these cases, they still work in exactly the same way.\n",
        "An AND gate will need all of its inputs to be high for its output to be high. \n",
        "An or gate will only need at least of its inputs to be high for its output to be high.\n",
        "    \n"
      ]
    },
    {
      "cell_type": "markdown",
      "metadata": {},
      "source": [
        "### **Questions**"
      ]
    },
    {
      "cell_type": "code",
      "execution_count": null,
      "metadata": {
        "cellView": "form"
      },
      "outputs": [],
      "source": [
        "#@markdown Use this diagram for the following questions\n",
        "#@markdown <p align=\"left\"> <img src=\"https://raw.githubusercontent.com/byuccl/digital_design_colab2/master/Exercises/gates/media/circuit_1.png\" width=\"250\" height=\"\" style=\"display: block; margin: 0 auto\" /> </p>\n",
        "print_frq_grid(1)\n",
        "print()\n",
        "print_frq_grid(2)\n",
        " "
      ]
    },
    {
      "cell_type": "code",
      "execution_count": null,
      "metadata": {
        "cellView": "form"
      },
      "outputs": [],
      "source": [
        "#@markdown Use this diagram for the following questions\n",
        "#@markdown <p align=\"left\"> <img src=\"https://raw.githubusercontent.com/byuccl/digital_design_colab2/master/Exercises/gates/media/circuit_2.png\" width=\"250\" height=\"\" style=\"display: block; margin: 0 auto\" /> </p>\n",
        "print_frq_grid(3)\n",
        "print()\n",
        "print_frq_grid(4)\n",
        " "
      ]
    },
    {
      "cell_type": "code",
      "execution_count": null,
      "metadata": {
        "cellView": "form"
      },
      "outputs": [],
      "source": [
        "#@markdown Use this diagram for the following questions\n",
        "#@markdown <p align=\"left\"> <img src=\"https://raw.githubusercontent.com/byuccl/digital_design_colab2/master/Exercises/gates/media/circuit_3.png\" width=\"250\" height=\"\" style=\"display: block; margin: 0 auto\" /> </p>\n",
        "print_frq_grid(5)\n",
        "print()\n",
        "print_frq_grid(6)\n",
        " "
      ]
    },
    {
      "cell_type": "markdown",
      "metadata": {},
      "source": []
    }
  ],
  "metadata": {
    "kernelspec": {
      "display_name": "Python 3.10.6 64-bit",
      "language": "python",
      "name": "python3"
    },
    "language_info": {
      "name": "python",
      "version": "3.10.6"
    },
    "vscode": {
      "interpreter": {
        "hash": "916dbcbb3f70747c44a77c7bcd40155683ae19c65e1c03b4aa3499c5328201f1"
      }
    }
  },
  "nbformat": 4,
  "nbformat_minor": 0
}
